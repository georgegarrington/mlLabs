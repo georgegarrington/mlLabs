{
 "cells": [
  {
   "cell_type": "markdown",
   "metadata": {
    "colab_type": "text",
    "id": "TQ_QOGPH-toP"
   },
   "source": [
    "# COMP3222/6246 Machine Learning Technologies (2019/20)\n",
    "## Lab 2 – Linear regression, polynomial regression and Support Vector Machines\n",
    "\n",
    "In the first lab, you implemented a simple linear regression algorithm. Despite its simplicity, this algorithm is quite powerful and can fulfill many of your ML needs. It is not surprising, then, that ML researchers have come up with all sorts of tricks to make it even more effective. In this lab, we have a look at a number of them. However, let us revise the basic model first."
   ]
  },
  {
   "cell_type": "markdown",
   "metadata": {
    "colab_type": "text",
    "id": "gVC26ZqF-toQ"
   },
   "source": [
    "## 1. Vanilla linear regression\n",
    "For the sake of reproducibility, let us set the seed of the random generator:\n"
   ]
  },
  {
   "cell_type": "code",
   "execution_count": 3,
   "metadata": {
    "colab": {},
    "colab_type": "code",
    "id": "Ffia3FQc-toR"
   },
   "outputs": [],
   "source": [
    "import numpy as np\n",
    "\n",
    "# make numpy randomisation predictable (repeatable by using the same seed)\n",
    "np.random.seed(0)"
   ]
  },
  {
   "cell_type": "markdown",
   "metadata": {
    "colab_type": "text",
    "id": "wl4lWY5D-toT"
   },
   "source": [
    "Then, let us import the Boston house price dataset included in the scikit library:"
   ]
  },
  {
   "cell_type": "code",
   "execution_count": 4,
   "metadata": {
    "colab": {},
    "colab_type": "code",
    "id": "6GdZahuW-toV"
   },
   "outputs": [],
   "source": [
    "from sklearn.datasets import load_boston\n",
    "\n",
    "# load dataset\n",
    "boston = load_boston()"
   ]
  },
  {
   "cell_type": "markdown",
   "metadata": {
    "colab_type": "text",
    "id": "EtUslGTL-toX"
   },
   "source": [
    "And split the dataset in two: 80% training set and 20% test set. It sounds familiar, doesn't it?"
   ]
  },
  {
   "cell_type": "code",
   "execution_count": 5,
   "metadata": {
    "colab": {},
    "colab_type": "code",
    "id": "QvFDgj-G-toX"
   },
   "outputs": [],
   "source": [
    "# partition the dataset into training and test sets\n",
    "rnd_indices = np.random.permutation(boston.data.shape[0])\n",
    "train_size = int(boston.data.shape[0] * 0.8)\n",
    "train_indices = rnd_indices[:train_size]\n",
    "test_indices = rnd_indices[train_size:]\n",
    "\n",
    "train_data = boston.data[train_indices, :]\n",
    "test_data = boston.data[test_indices, :]\n",
    "train_target = boston.target[train_indices]\n",
    "test_target = boston.target[test_indices]"
   ]
  },
  {
   "cell_type": "markdown",
   "metadata": {
    "colab_type": "text",
    "id": "ZcmqrtwF-toa"
   },
   "source": [
    "*Exercise 1.1.* As a quick warm-up, modify the following code to print the fifth and sixth feature."
   ]
  },
  {
   "cell_type": "code",
   "execution_count": 6,
   "metadata": {},
   "outputs": [
    {
     "name": "stdout",
     "output_type": "stream",
     "text": [
      "The fifth feature is: NOX\n"
     ]
    }
   ],
   "source": [
    "# so you can see that an sklearn bunch is like a type synonym for a dictionary, and you can easily access\n",
    "# each thing in the dictionary by using this \"dot\" syntax\n",
    "print(\"The fifth feature is: \" + boston.feature_names[4]) "
   ]
  },
  {
   "cell_type": "code",
   "execution_count": 7,
   "metadata": {},
   "outputs": [
    {
     "name": "stdout",
     "output_type": "stream",
     "text": [
      "The sixth feature is: RM\n"
     ]
    }
   ],
   "source": [
    "print(\"The sixth feature is: \" + boston.feature_names[5])"
   ]
  },
  {
   "cell_type": "code",
   "execution_count": 17,
   "metadata": {
    "colab": {},
    "colab_type": "code",
    "id": "hjd6SJ_v-tob"
   },
   "outputs": [
    {
     "data": {
      "text/plain": [
       "[<matplotlib.lines.Line2D at 0x7fbea9d43d60>]"
      ]
     },
     "execution_count": 17,
     "metadata": {},
     "output_type": "execute_result"
    },
    {
     "data": {
      "image/png": "[encoded data removed]",
      "text/plain": [
       "<Figure size 432x288 with 1 Axes>"
      ]
     },
     "metadata": {
      "needs_background": "light"
     },
     "output_type": "display_data"
    }
   ],
   "source": [
    "import matplotlib.pyplot as plt\n",
    "\n",
    "plt.figure()\n",
    "\n",
    "#plot takes as argument two ndarrays and a singleton string containing the character to be plotted on the graph\n",
    "plt.plot(train_data[:,0], train_target, \"*\")"
   ]
  },
  {
   "cell_type": "code",
   "execution_count": 10,
   "metadata": {},
   "outputs": [
    {
     "data": {
      "text/plain": [
       "numpy.ndarray"
      ]
     },
     "execution_count": 10,
     "metadata": {},
     "output_type": "execute_result"
    }
   ],
   "source": [
    "type(train_target)"
   ]
  },
  {
   "cell_type": "markdown",
   "metadata": {
    "colab_type": "text",
    "id": "_S6CW8Dq-toc"
   },
   "source": [
    "Finally, it is time to train our linear regression model:"
   ]
  },
  {
   "cell_type": "code",
   "execution_count": 35,
   "metadata": {
    "colab": {},
    "colab_type": "code",
    "id": "prDCNe0y-tod"
   },
   "outputs": [
    {
     "data": {
      "text/plain": [
       "LinearRegression()"
      ]
     },
     "execution_count": 35,
     "metadata": {},
     "output_type": "execute_result"
    }
   ],
   "source": [
    "from sklearn.linear_model import LinearRegression\n",
    "\n",
    "# fit a linear regressor\n",
    "lin_reg = LinearRegression()\n",
    "lin_reg.fit(train_data, train_target)"
   ]
  },
  {
   "cell_type": "markdown",
   "metadata": {
    "colab_type": "text",
    "id": "Eq09kXCi-tof"
   },
   "source": [
    "*Exercise 1.2.* Modify the following code to print both the training and the testing RMSE."
   ]
  },
  {
   "cell_type": "code",
   "execution_count": 37,
   "metadata": {
    "colab": {},
    "colab_type": "code",
    "id": "2fIQ8TLM-tof"
   },
   "outputs": [
    {
     "name": "stdout",
     "output_type": "stream",
     "text": [
      "the training rmse is: 4.854290583096463\n",
      "the testing rmse is: 4.060118093883479\n"
     ]
    }
   ],
   "source": [
    "train_predict = lin_reg.predict(train_data)\n",
    "train_rmse = np.sqrt(((train_target - train_predict) ** 2).mean())\n",
    "print(\"the training rmse is: \" + str(train_rmse))\n",
    "\n",
    "# predicting the testing RMSE\n",
    "\n",
    "testing_predict = lin_reg.predict(test_data)\n",
    "testing_rmse = np.sqrt(((test_target - testing_predict) ** 2).mean())\n",
    "print(\"the testing rmse is: \" + str(testing_rmse))\n"
   ]
  },
  {
   "cell_type": "markdown",
   "metadata": {
    "colab_type": "text",
    "id": "JovbOcDT-toj"
   },
   "source": [
    "## 2. Feature scaling\n",
    "The first trick we look at is a data cleaning technique, and quite a general one. Before feeding the training set to your favourite ML algorithm, it is good practice to normalise the input features. This means scaling them so that their values fall more or less in the same range. The scikit library offers two different scaling methods: min-max scaling, and standard scaling.\n",
    "\n",
    "*Exercise 2.1.* What do this methods do (explain in 1-2 sentences)? Hint: just google the name of the method and browse the scikit documentation!\n",
    "\n",
    "Let us pick the standard scaling method and write some sample code:"
   ]
  },
  {
   "cell_type": "code",
   "execution_count": 38,
   "metadata": {},
   "outputs": [],
   "source": [
    "# min-max scaling: where you scale features by their actual ratio e.g. if you had weights from 160 to 200\n",
    "# , you would subtract 160 from each data point and divide them all be 40 (difference between max and min)\n",
    "\n",
    "# standard scaling: subtract the mean of the distribution from each feature, then divide each of these values by\n",
    "# the standard deviation"
   ]
  },
  {
   "cell_type": "code",
   "execution_count": 48,
   "metadata": {
    "colab": {},
    "colab_type": "code",
    "id": "OJdec8Qf-toj"
   },
   "outputs": [
    {
     "name": "stdout",
     "output_type": "stream",
     "text": [
      "The 11th feature before transformation is: array([ 73.5341,   0.    ,  18.1   ,   0.    ,   0.679 ,   5.957 ,\n",
      "       100.    ,   1.8026,  24.    , 666.    ,  20.2   ,  16.45  ,\n",
      "        20.62  ])\n",
      "The 11th feature after transformation is: array([ 7.78228133, -0.48917404,  1.04403852, -0.27288841,  1.08878905,\n",
      "       -0.4527823 ,  1.13689791, -0.93827535,  1.68470138,  1.58545901,\n",
      "        0.82605672, -3.72185293,  1.12454461])\n"
     ]
    }
   ],
   "source": [
    "# import a given class from a specific module\n",
    "from sklearn.preprocessing import StandardScaler\n",
    "\n",
    "scaler = StandardScaler()\n",
    "scaler.fit(train_data)\n",
    "\n",
    "scaled_train_data = scaler.transform(train_data)\n",
    "\n",
    "print(\"The 11th feature before transformation is: \" + repr(train_data[10]))\n",
    "print(\"The 11th feature after transformation is: \" + repr(scaled_train_data[10]))\n",
    "\n",
    "scaled_test_data = scaler.transform(test_data)"
   ]
  },
  {
   "cell_type": "markdown",
   "metadata": {
    "colab_type": "text",
    "id": "lybzNc0R-ton"
   },
   "source": [
    "*Exercise 2.2.* Modify the code above to print the eleventh feature before and after the transformation.\n",
    "\n",
    "*Exercise 2.3.* Retrain the vanilla linear regressor on the scaled training set and make prediction on the (scaled) test set. Print the RMSE on training and test set."
   ]
  },
  {
   "cell_type": "code",
   "execution_count": 51,
   "metadata": {},
   "outputs": [
    {
     "name": "stdout",
     "output_type": "stream",
     "text": [
      "Train RMSE =  4.854290583096463 , Test RMSE = 4.06011809388348\n"
     ]
    }
   ],
   "source": [
    "#lin_reg = LinearRegression()\n",
    "#lin_reg.fit(scaled_train_data, scaled_test_data) DOOFUS! You don't train a model on the testing data UUUUH!\n",
    "\n",
    "from math import sqrt\n",
    "from sklearn.metrics import mean_squared_error\n",
    "\n",
    "# Solution\n",
    "\n",
    "lin_reg = LinearRegression()\n",
    "lin_reg.fit(scaled_train_data, train_target)\n",
    "train_predict = lin_reg.predict(scaled_train_data)\n",
    "test_predict = lin_reg.predict(scaled_test_data)\n",
    "\n",
    "#this is just looking at the definitions of RMSE and MAE\n",
    "train_rmse = np.sqrt(((train_target - train_predict) ** 2).mean())\n",
    "test_rmse = sqrt(mean_squared_error(test_target, test_predict))\n",
    "print('Train RMSE = ', train_rmse, ', Test RMSE =', test_rmse)"
   ]
  },
  {
   "cell_type": "markdown",
   "metadata": {
    "colab_type": "text",
    "id": "SGs0ZDgJ-ton"
   },
   "source": [
    "## 3. Regularised linear models\n",
    "ML algorithms are affected by noise and outliers. On top of that, the model we are using might be too powerful for the problem at hand, and end up overfitting. In order to avoid this, we can constrain the result of our learning effort, and avoid choosing extreme values for the weights of our model. This is called *regularisation* and finds many applications across the ML spectrum.\n",
    "\n",
    "Here, we look at two alternatives for our linear model: *Ridge* regression and *Lasso* regression.\n",
    "\n",
    "Coding them in scikit is quite easy. Here is an example:"
   ]
  },
  {
   "cell_type": "code",
   "execution_count": 53,
   "metadata": {
    "colab": {},
    "colab_type": "code",
    "id": "1USxx1uo-too"
   },
   "outputs": [
    {
     "data": {
      "text/plain": [
       "Lasso(alpha=1)"
      ]
     },
     "execution_count": 53,
     "metadata": {},
     "output_type": "execute_result"
    }
   ],
   "source": [
    "from sklearn.linear_model import Ridge, Lasso\n",
    "\n",
    "# fit a ridge regressor\n",
    "alpha_ridge = 1\n",
    "ridge_reg = Ridge(alpha_ridge, solver=\"cholesky\")\n",
    "ridge_reg.fit(train_data, train_target)\n",
    "\n",
    "# fit a lasso regressor\n",
    "alpha_lasso = 1\n",
    "lasso_reg = Lasso(alpha_lasso)\n",
    "lasso_reg.fit(train_data, train_target)"
   ]
  },
  {
   "cell_type": "code",
   "execution_count": 55,
   "metadata": {},
   "outputs": [
    {
     "data": {
      "text/plain": [
       "'cyclic'"
      ]
     },
     "execution_count": 55,
     "metadata": {},
     "output_type": "execute_result"
    }
   ],
   "source": [
    "lasso_reg.selection"
   ]
  },
  {
   "cell_type": "markdown",
   "metadata": {
    "colab_type": "text",
    "id": "l4yArNTX-toq"
   },
   "source": [
    "*Exercise 3.1.* Compare the training and test RMSE for the Ridge, Lasso and vanilla linear regressors on the Boston house price dataset (no feature scaling).\n",
    "\n",
    "*Exercise 3.2.* Do the results change much if we scale the input features beforehand (compare the RMSE in both cases)?\n",
    "\n",
    "*Exercise 3.3.* What is the best value of alpha_ridge and alpha_lasso (for simplicity use the test set as a validation set)?"
   ]
  },
  {
   "cell_type": "markdown",
   "metadata": {
    "colab_type": "text",
    "id": "0eTtz4Cf-tor"
   },
   "source": [
    "## 4. Support Vector Machines (for regression)\n",
    "Support Vector Machines (SVM) can be used not only for classification but also for regression! Furthermore, they already provide an implicit way of regularising the result by changing the width of the margin epsilon.\n",
    "\n",
    "*Exercise 4.1.* Modify the code below to train a SVM regressor on the Boston house price dataset. Print the training and test RMSE."
   ]
  },
  {
   "cell_type": "code",
   "execution_count": 0,
   "metadata": {
    "colab": {},
    "colab_type": "code",
    "id": "xAvHhMir-tor"
   },
   "outputs": [],
   "source": [
    "# fit a support vector machine regressor\n",
    "epsilon_svm = 1\n",
    "svm_reg = LinearSVR(epsilon_svm)\n",
    "svm_reg.fit(train_data, train_target)"
   ]
  },
  {
   "cell_type": "markdown",
   "metadata": {
    "colab_type": "text",
    "id": "YzPQ_q_x-tot"
   },
   "source": [
    "*Exercise 4.2.* What value of epsilon gives you the best performance (for simplicity use the test set as a validation set)?"
   ]
  },
  {
   "cell_type": "markdown",
   "metadata": {
    "colab_type": "text",
    "id": "ej7S36CM-tot"
   },
   "source": [
    "## 5. Polynomial regression\n",
    "Linear regression is all well and good, but sometimes the dataset requires a non-linear model. In this regard, the ML literature offers quite a range of non-linear regression algorithm. Here we look at the simplest one, *polynomial* regression.\n",
    "\n",
    "Before, implementing the algorithm, let us create a synthetic dataset:"
   ]
  },
  {
   "cell_type": "code",
   "execution_count": 0,
   "metadata": {
    "colab": {},
    "colab_type": "code",
    "id": "z2tphSGZ-tou"
   },
   "outputs": [],
   "source": [
    "n = 100\n",
    "data = 12 * np.random.rand(n, 1) - 3.9\n",
    "target = 0.09 * (data**3) + 0.3 * (data**2) - 4.1 * data - 2.4 + 4.79 * np.random.randn(n, 1)"
   ]
  },
  {
   "cell_type": "markdown",
   "metadata": {
    "colab_type": "text",
    "id": "26EP1yHi-tow"
   },
   "source": [
    "*Exercise 5.1.* Plot the dataset.\n",
    "\n",
    "*Exercise 5.2.* Why would a linear model be a poor choice in this case (explain in 1-2 sentences)?\n",
    "\n",
    "The idea behind polynomial regression is to expand the number of input features. We do so by taking the existing ones, and multiplying them by one another. More formally, we create an arbitrary number of polynomials of the given input features.\n",
    "\n",
    "Fortunately, the scikit package allows us to implement this in a few lines of code:"
   ]
  },
  {
   "cell_type": "code",
   "execution_count": 0,
   "metadata": {
    "colab": {},
    "colab_type": "code",
    "id": "8BG6CElK-tox"
   },
   "outputs": [],
   "source": [
    "# fit a quadratic regressor\n",
    "poly_features = PolynomialFeatures(degree=2, include_bias=False)\n",
    "poly_train_data = poly_features.fit_transform(train_data)\n",
    "lin_reg = LinearRegression()\n",
    "lin_reg.fit(poly_train_data, train_target)"
   ]
  },
  {
   "cell_type": "markdown",
   "metadata": {
    "colab_type": "text",
    "id": "ZAiem3Er-to1"
   },
   "source": [
    "The code above creates *quadratic* features, i.e. polynomials of degree two. If we need an even more powerful model, we can choose higher degrees. Of course, this will create an increasingly large number of extra features, and exposes us to overfitting. However, sometimes it is worth the effort.\n",
    "\n",
    "*Exercise 5.3.* Which line of the code above you need to change to implement cubic regression (report the modified line)?\n",
    "\n",
    "*Exercise 5.4* Train both Ridge and Lasso regressions and compare the training and test RMSE with the vanilla linear regression shown above.\n",
    "\n",
    "Finally, we can modify our SVM code to do polynomial regression. Notice that the SVM takes as input the regular features and manipulates them with a polynomial kernel:"
   ]
  },
  {
   "cell_type": "code",
   "execution_count": 0,
   "metadata": {
    "colab": {},
    "colab_type": "code",
    "id": "648gebOa-to3"
   },
   "outputs": [],
   "source": [
    "svm_reg = SVR(kernel=\"poly\", degree=2, C=100, epsilon=0.1)\n",
    "svm_reg.fit(train_data, np.ravel(train_target))"
   ]
  },
  {
   "cell_type": "markdown",
   "metadata": {
    "colab_type": "text",
    "id": "Mg5N8543-to5"
   },
   "source": [
    "*Exercise 5.5* Plot the original dataset as in Exercise 5.1, but add the predictions of the four models (vanilla linear, Ridge, Lasso and SVM). Hint: you can modify the code below and print four separate plots."
   ]
  },
  {
   "cell_type": "code",
   "execution_count": 0,
   "metadata": {
    "colab": {},
    "colab_type": "code",
    "id": "Q3VI1-V1-to5"
   },
   "outputs": [],
   "source": [
    "plt.figure()\n",
    "plt.plot(train_data, train_target, \"*\", train_data, lin_train_predict, \".\", test_data, test_target, \"*\", test_data, lin_test_predict, \".\")"
   ]
  }
 ],
 "metadata": {
  "colab": {
   "name": "lab2.ipynb",
   "provenance": [],
   "version": "0.3.2"
  },
  "kernelspec": {
   "display_name": "Python 3",
   "language": "python",
   "name": "python3"
  },
  "language_info": {
   "codemirror_mode": {
    "name": "ipython",
    "version": 3
   },
   "file_extension": ".py",
   "mimetype": "text/x-python",
   "name": "python",
   "nbconvert_exporter": "python",
   "pygments_lexer": "ipython3",
   "version": "3.8.3"
  }
 },
 "nbformat": 4,
 "nbformat_minor": 1
}
